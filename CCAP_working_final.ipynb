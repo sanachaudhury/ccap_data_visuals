{
 "cells": [
  {
   "cell_type": "code",
   "execution_count": 41,
   "metadata": {},
   "outputs": [
    {
     "name": "stdout",
     "output_type": "stream",
     "text": [
      "Requirement already satisfied: numpy in /Users/sanachaudhury/Library/Python/3.7/lib/python/site-packages (1.17.4)\n",
      "Requirement already satisfied: pandas in /Users/sanachaudhury/Library/Python/3.7/lib/python/site-packages (0.25.3)\n",
      "Requirement already satisfied: numpy>=1.13.3 in /Users/sanachaudhury/Library/Python/3.7/lib/python/site-packages (from pandas) (1.17.4)\n",
      "Requirement already satisfied: pytz>=2017.2 in /Users/sanachaudhury/Library/Python/3.7/lib/python/site-packages (from pandas) (2019.3)\n",
      "Requirement already satisfied: python-dateutil>=2.6.1 in /Library/Frameworks/Python.framework/Versions/3.7/lib/python3.7/site-packages (from pandas) (2.8.1)\n",
      "Requirement already satisfied: six>=1.5 in /Library/Frameworks/Python.framework/Versions/3.7/lib/python3.7/site-packages (from python-dateutil>=2.6.1->pandas) (1.13.0)\n",
      "Requirement already satisfied: plotly in /Library/Frameworks/Python.framework/Versions/3.7/lib/python3.7/site-packages (4.1.1)\n",
      "Requirement already satisfied: retrying>=1.3.3 in /Library/Frameworks/Python.framework/Versions/3.7/lib/python3.7/site-packages (from plotly) (1.3.3)\n",
      "Requirement already satisfied: six in /Library/Frameworks/Python.framework/Versions/3.7/lib/python3.7/site-packages (from plotly) (1.13.0)\n",
      "Requirement already satisfied: cufflinks in /Library/Frameworks/Python.framework/Versions/3.7/lib/python3.7/site-packages (0.17.0)\n",
      "Requirement already satisfied: numpy>=1.9.2 in /Users/sanachaudhury/Library/Python/3.7/lib/python/site-packages (from cufflinks) (1.17.4)\n",
      "Requirement already satisfied: pandas>=0.19.2 in /Users/sanachaudhury/Library/Python/3.7/lib/python/site-packages (from cufflinks) (0.25.3)\n",
      "Requirement already satisfied: plotly>=4.1.1 in /Library/Frameworks/Python.framework/Versions/3.7/lib/python3.7/site-packages (from cufflinks) (4.1.1)\n",
      "Requirement already satisfied: chart-studio>=1.0.0 in /Library/Frameworks/Python.framework/Versions/3.7/lib/python3.7/site-packages (from cufflinks) (1.0.0)\n",
      "Requirement already satisfied: six>=1.9.0 in /Library/Frameworks/Python.framework/Versions/3.7/lib/python3.7/site-packages (from cufflinks) (1.13.0)\n",
      "Requirement already satisfied: colorlover>=0.2.1 in /Library/Frameworks/Python.framework/Versions/3.7/lib/python3.7/site-packages (from cufflinks) (0.3.0)\n",
      "Requirement already satisfied: setuptools>=34.4.1 in /Library/Frameworks/Python.framework/Versions/3.7/lib/python3.7/site-packages (from cufflinks) (40.8.0)\n",
      "Requirement already satisfied: ipython>=5.3.0 in /Library/Frameworks/Python.framework/Versions/3.7/lib/python3.7/site-packages (from cufflinks) (7.9.0)\n",
      "Requirement already satisfied: ipywidgets>=7.0.0 in /Library/Frameworks/Python.framework/Versions/3.7/lib/python3.7/site-packages (from cufflinks) (7.5.1)\n",
      "Requirement already satisfied: pytz>=2017.2 in /Users/sanachaudhury/Library/Python/3.7/lib/python/site-packages (from pandas>=0.19.2->cufflinks) (2019.3)\n",
      "Requirement already satisfied: python-dateutil>=2.6.1 in /Library/Frameworks/Python.framework/Versions/3.7/lib/python3.7/site-packages (from pandas>=0.19.2->cufflinks) (2.8.1)\n",
      "Requirement already satisfied: retrying>=1.3.3 in /Library/Frameworks/Python.framework/Versions/3.7/lib/python3.7/site-packages (from plotly>=4.1.1->cufflinks) (1.3.3)\n",
      "Requirement already satisfied: requests in /Library/Frameworks/Python.framework/Versions/3.7/lib/python3.7/site-packages (from chart-studio>=1.0.0->cufflinks) (2.22.0)\n",
      "Requirement already satisfied: pygments in /Library/Frameworks/Python.framework/Versions/3.7/lib/python3.7/site-packages (from ipython>=5.3.0->cufflinks) (2.4.2)\n",
      "Requirement already satisfied: pexpect; sys_platform != \"win32\" in /Library/Frameworks/Python.framework/Versions/3.7/lib/python3.7/site-packages (from ipython>=5.3.0->cufflinks) (4.7.0)\n",
      "Requirement already satisfied: jedi>=0.10 in /Library/Frameworks/Python.framework/Versions/3.7/lib/python3.7/site-packages (from ipython>=5.3.0->cufflinks) (0.15.1)\n",
      "Requirement already satisfied: traitlets>=4.2 in /Library/Frameworks/Python.framework/Versions/3.7/lib/python3.7/site-packages (from ipython>=5.3.0->cufflinks) (4.3.3)\n",
      "Requirement already satisfied: backcall in /Library/Frameworks/Python.framework/Versions/3.7/lib/python3.7/site-packages (from ipython>=5.3.0->cufflinks) (0.1.0)\n",
      "Requirement already satisfied: appnope; sys_platform == \"darwin\" in /Library/Frameworks/Python.framework/Versions/3.7/lib/python3.7/site-packages (from ipython>=5.3.0->cufflinks) (0.1.0)\n",
      "Requirement already satisfied: prompt-toolkit<2.1.0,>=2.0.0 in /Library/Frameworks/Python.framework/Versions/3.7/lib/python3.7/site-packages (from ipython>=5.3.0->cufflinks) (2.0.10)\n",
      "Requirement already satisfied: decorator in /Library/Frameworks/Python.framework/Versions/3.7/lib/python3.7/site-packages (from ipython>=5.3.0->cufflinks) (4.4.1)\n",
      "Requirement already satisfied: pickleshare in /Library/Frameworks/Python.framework/Versions/3.7/lib/python3.7/site-packages (from ipython>=5.3.0->cufflinks) (0.7.5)\n",
      "Requirement already satisfied: ipykernel>=4.5.1 in /Library/Frameworks/Python.framework/Versions/3.7/lib/python3.7/site-packages (from ipywidgets>=7.0.0->cufflinks) (5.1.3)\n",
      "Requirement already satisfied: nbformat>=4.2.0 in /Library/Frameworks/Python.framework/Versions/3.7/lib/python3.7/site-packages (from ipywidgets>=7.0.0->cufflinks) (4.4.0)\n",
      "Requirement already satisfied: widgetsnbextension~=3.5.0 in /Library/Frameworks/Python.framework/Versions/3.7/lib/python3.7/site-packages (from ipywidgets>=7.0.0->cufflinks) (3.5.1)\n",
      "Requirement already satisfied: idna<2.9,>=2.5 in /Library/Frameworks/Python.framework/Versions/3.7/lib/python3.7/site-packages (from requests->chart-studio>=1.0.0->cufflinks) (2.8)\n",
      "Requirement already satisfied: certifi>=2017.4.17 in /Library/Frameworks/Python.framework/Versions/3.7/lib/python3.7/site-packages (from requests->chart-studio>=1.0.0->cufflinks) (2018.11.29)\n",
      "Requirement already satisfied: urllib3!=1.25.0,!=1.25.1,<1.26,>=1.21.1 in /Library/Frameworks/Python.framework/Versions/3.7/lib/python3.7/site-packages (from requests->chart-studio>=1.0.0->cufflinks) (1.25.7)\n",
      "Requirement already satisfied: chardet<3.1.0,>=3.0.2 in /Library/Frameworks/Python.framework/Versions/3.7/lib/python3.7/site-packages (from requests->chart-studio>=1.0.0->cufflinks) (3.0.4)\n",
      "Requirement already satisfied: ptyprocess>=0.5 in /Library/Frameworks/Python.framework/Versions/3.7/lib/python3.7/site-packages (from pexpect; sys_platform != \"win32\"->ipython>=5.3.0->cufflinks) (0.6.0)\n",
      "Requirement already satisfied: parso>=0.5.0 in /Library/Frameworks/Python.framework/Versions/3.7/lib/python3.7/site-packages (from jedi>=0.10->ipython>=5.3.0->cufflinks) (0.5.1)\n",
      "Requirement already satisfied: ipython-genutils in /Library/Frameworks/Python.framework/Versions/3.7/lib/python3.7/site-packages (from traitlets>=4.2->ipython>=5.3.0->cufflinks) (0.2.0)\n",
      "Requirement already satisfied: wcwidth in /Library/Frameworks/Python.framework/Versions/3.7/lib/python3.7/site-packages (from prompt-toolkit<2.1.0,>=2.0.0->ipython>=5.3.0->cufflinks) (0.1.7)\n",
      "Requirement already satisfied: tornado>=4.2 in /Library/Frameworks/Python.framework/Versions/3.7/lib/python3.7/site-packages (from ipykernel>=4.5.1->ipywidgets>=7.0.0->cufflinks) (6.0.3)\n",
      "Requirement already satisfied: jupyter-client in /Library/Frameworks/Python.framework/Versions/3.7/lib/python3.7/site-packages (from ipykernel>=4.5.1->ipywidgets>=7.0.0->cufflinks) (5.3.4)\n",
      "Requirement already satisfied: jsonschema!=2.5.0,>=2.4 in /Library/Frameworks/Python.framework/Versions/3.7/lib/python3.7/site-packages (from nbformat>=4.2.0->ipywidgets>=7.0.0->cufflinks) (3.2.0)\n",
      "Requirement already satisfied: jupyter-core in /Library/Frameworks/Python.framework/Versions/3.7/lib/python3.7/site-packages (from nbformat>=4.2.0->ipywidgets>=7.0.0->cufflinks) (4.6.1)\n",
      "Requirement already satisfied: notebook>=4.4.1 in /Library/Frameworks/Python.framework/Versions/3.7/lib/python3.7/site-packages (from widgetsnbextension~=3.5.0->ipywidgets>=7.0.0->cufflinks) (6.0.2)\n",
      "Requirement already satisfied: pyzmq>=13 in /Library/Frameworks/Python.framework/Versions/3.7/lib/python3.7/site-packages (from jupyter-client->ipykernel>=4.5.1->ipywidgets>=7.0.0->cufflinks) (18.1.1)\n",
      "Requirement already satisfied: importlib-metadata; python_version < \"3.8\" in /Library/Frameworks/Python.framework/Versions/3.7/lib/python3.7/site-packages (from jsonschema!=2.5.0,>=2.4->nbformat>=4.2.0->ipywidgets>=7.0.0->cufflinks) (0.23)\n",
      "Requirement already satisfied: pyrsistent>=0.14.0 in /Library/Frameworks/Python.framework/Versions/3.7/lib/python3.7/site-packages (from jsonschema!=2.5.0,>=2.4->nbformat>=4.2.0->ipywidgets>=7.0.0->cufflinks) (0.15.6)\n",
      "Requirement already satisfied: attrs>=17.4.0 in /Library/Frameworks/Python.framework/Versions/3.7/lib/python3.7/site-packages (from jsonschema!=2.5.0,>=2.4->nbformat>=4.2.0->ipywidgets>=7.0.0->cufflinks) (19.3.0)\n"
     ]
    },
    {
     "name": "stdout",
     "output_type": "stream",
     "text": [
      "Requirement already satisfied: jinja2 in /Library/Frameworks/Python.framework/Versions/3.7/lib/python3.7/site-packages (from notebook>=4.4.1->widgetsnbextension~=3.5.0->ipywidgets>=7.0.0->cufflinks) (2.10.3)\n",
      "Requirement already satisfied: prometheus-client in /Library/Frameworks/Python.framework/Versions/3.7/lib/python3.7/site-packages (from notebook>=4.4.1->widgetsnbextension~=3.5.0->ipywidgets>=7.0.0->cufflinks) (0.7.1)\n",
      "Requirement already satisfied: terminado>=0.8.1 in /Library/Frameworks/Python.framework/Versions/3.7/lib/python3.7/site-packages (from notebook>=4.4.1->widgetsnbextension~=3.5.0->ipywidgets>=7.0.0->cufflinks) (0.8.3)\n",
      "Requirement already satisfied: nbconvert in /Library/Frameworks/Python.framework/Versions/3.7/lib/python3.7/site-packages (from notebook>=4.4.1->widgetsnbextension~=3.5.0->ipywidgets>=7.0.0->cufflinks) (5.6.1)\n",
      "Requirement already satisfied: Send2Trash in /Library/Frameworks/Python.framework/Versions/3.7/lib/python3.7/site-packages (from notebook>=4.4.1->widgetsnbextension~=3.5.0->ipywidgets>=7.0.0->cufflinks) (1.5.0)\n",
      "Requirement already satisfied: zipp>=0.5 in /Library/Frameworks/Python.framework/Versions/3.7/lib/python3.7/site-packages (from importlib-metadata; python_version < \"3.8\"->jsonschema!=2.5.0,>=2.4->nbformat>=4.2.0->ipywidgets>=7.0.0->cufflinks) (0.6.0)\n",
      "Requirement already satisfied: MarkupSafe>=0.23 in /Library/Frameworks/Python.framework/Versions/3.7/lib/python3.7/site-packages (from jinja2->notebook>=4.4.1->widgetsnbextension~=3.5.0->ipywidgets>=7.0.0->cufflinks) (1.1.1)\n",
      "Requirement already satisfied: bleach in /Library/Frameworks/Python.framework/Versions/3.7/lib/python3.7/site-packages (from nbconvert->notebook>=4.4.1->widgetsnbextension~=3.5.0->ipywidgets>=7.0.0->cufflinks) (3.1.0)\n",
      "Requirement already satisfied: mistune<2,>=0.8.1 in /Library/Frameworks/Python.framework/Versions/3.7/lib/python3.7/site-packages (from nbconvert->notebook>=4.4.1->widgetsnbextension~=3.5.0->ipywidgets>=7.0.0->cufflinks) (0.8.4)\n",
      "Requirement already satisfied: pandocfilters>=1.4.1 in /Library/Frameworks/Python.framework/Versions/3.7/lib/python3.7/site-packages (from nbconvert->notebook>=4.4.1->widgetsnbextension~=3.5.0->ipywidgets>=7.0.0->cufflinks) (1.4.2)\n",
      "Requirement already satisfied: entrypoints>=0.2.2 in /Library/Frameworks/Python.framework/Versions/3.7/lib/python3.7/site-packages (from nbconvert->notebook>=4.4.1->widgetsnbextension~=3.5.0->ipywidgets>=7.0.0->cufflinks) (0.3)\n",
      "Requirement already satisfied: defusedxml in /Library/Frameworks/Python.framework/Versions/3.7/lib/python3.7/site-packages (from nbconvert->notebook>=4.4.1->widgetsnbextension~=3.5.0->ipywidgets>=7.0.0->cufflinks) (0.6.0)\n",
      "Requirement already satisfied: testpath in /Library/Frameworks/Python.framework/Versions/3.7/lib/python3.7/site-packages (from nbconvert->notebook>=4.4.1->widgetsnbextension~=3.5.0->ipywidgets>=7.0.0->cufflinks) (0.4.4)\n",
      "Requirement already satisfied: more-itertools in /Library/Frameworks/Python.framework/Versions/3.7/lib/python3.7/site-packages (from zipp>=0.5->importlib-metadata; python_version < \"3.8\"->jsonschema!=2.5.0,>=2.4->nbformat>=4.2.0->ipywidgets>=7.0.0->cufflinks) (7.2.0)\n",
      "Requirement already satisfied: webencodings in /Library/Frameworks/Python.framework/Versions/3.7/lib/python3.7/site-packages (from bleach->nbconvert->notebook>=4.4.1->widgetsnbextension~=3.5.0->ipywidgets>=7.0.0->cufflinks) (0.5.1)\n",
      "Requirement already satisfied: matplotlib in /Library/Frameworks/Python.framework/Versions/3.7/lib/python3.7/site-packages (3.1.2)\n",
      "Requirement already satisfied: cycler>=0.10 in /Library/Frameworks/Python.framework/Versions/3.7/lib/python3.7/site-packages (from matplotlib) (0.10.0)\n",
      "Requirement already satisfied: pyparsing!=2.0.4,!=2.1.2,!=2.1.6,>=2.0.1 in /Library/Frameworks/Python.framework/Versions/3.7/lib/python3.7/site-packages (from matplotlib) (2.4.5)\n",
      "Requirement already satisfied: numpy>=1.11 in /Users/sanachaudhury/Library/Python/3.7/lib/python/site-packages (from matplotlib) (1.17.4)\n",
      "Requirement already satisfied: python-dateutil>=2.1 in /Library/Frameworks/Python.framework/Versions/3.7/lib/python3.7/site-packages (from matplotlib) (2.8.1)\n",
      "Requirement already satisfied: kiwisolver>=1.0.1 in /Library/Frameworks/Python.framework/Versions/3.7/lib/python3.7/site-packages (from matplotlib) (1.1.0)\n",
      "Requirement already satisfied: six in /Library/Frameworks/Python.framework/Versions/3.7/lib/python3.7/site-packages (from cycler>=0.10->matplotlib) (1.13.0)\n",
      "Requirement already satisfied: setuptools in /Library/Frameworks/Python.framework/Versions/3.7/lib/python3.7/site-packages (from kiwisolver>=1.0.1->matplotlib) (40.8.0)\n"
     ]
    }
   ],
   "source": [
    "!pip install numpy\n",
    "!pip install pandas\n",
    "!pip install plotly\n",
    "!pip install cufflinks\n",
    "!pip install matplotlib"
   ]
  },
  {
   "cell_type": "code",
   "execution_count": 42,
   "metadata": {},
   "outputs": [
    {
     "data": {
      "text/html": [
       "        <script type=\"text/javascript\">\n",
       "        window.PlotlyConfig = {MathJaxConfig: 'local'};\n",
       "        if (window.MathJax) {MathJax.Hub.Config({SVG: {font: \"STIX-Web\"}});}\n",
       "        if (typeof require !== 'undefined') {\n",
       "        require.undef(\"plotly\");\n",
       "        requirejs.config({\n",
       "            paths: {\n",
       "                'plotly': ['https://cdn.plot.ly/plotly-latest.min']\n",
       "            }\n",
       "        });\n",
       "        require(['plotly'], function(Plotly) {\n",
       "            window._Plotly = Plotly;\n",
       "        });\n",
       "        }\n",
       "        </script>\n",
       "        "
      ]
     },
     "metadata": {},
     "output_type": "display_data"
    },
    {
     "data": {
      "text/html": [
       "        <script type=\"text/javascript\">\n",
       "        window.PlotlyConfig = {MathJaxConfig: 'local'};\n",
       "        if (window.MathJax) {MathJax.Hub.Config({SVG: {font: \"STIX-Web\"}});}\n",
       "        if (typeof require !== 'undefined') {\n",
       "        require.undef(\"plotly\");\n",
       "        requirejs.config({\n",
       "            paths: {\n",
       "                'plotly': ['https://cdn.plot.ly/plotly-latest.min']\n",
       "            }\n",
       "        });\n",
       "        require(['plotly'], function(Plotly) {\n",
       "            window._Plotly = Plotly;\n",
       "        });\n",
       "        }\n",
       "        </script>\n",
       "        "
      ]
     },
     "metadata": {},
     "output_type": "display_data"
    }
   ],
   "source": [
    "import numpy as np\n",
    "import pandas as pd\n",
    "import csv\n",
    "import os\n",
    "\n",
    "import ipywidgets as widgets\n",
    "from ipywidgets import interact, interactive, fixed, interact_manual,Dropdown\n",
    "\n",
    "import plotly as py\n",
    "import plotly.graph_objs as go\n",
    "from plotly.offline import iplot, init_notebook_mode\n",
    "import cufflinks\n",
    "cufflinks.go_offline(connected=True)\n",
    "init_notebook_mode(connected=True)\n",
    "import matplotlib"
   ]
  },
  {
   "cell_type": "markdown",
   "metadata": {},
   "source": [
    "The cells below show different ways to interact with data from the Dodd-Frank Act Stress Tests released by the \n",
    "Federal Reserve from 2017 to 2019. The data contains capital ratios for 14 advanced approaches firms (firms that did not have this classification in all 3 reports were excluded). Actual ratios for the given year are measured in the 4th quarter, and the projected minimums under adverse/severly adverse conditions correspond to period between the 1st quarters of the following 2 years. All data visualizations can be manipulated through widgets."
   ]
  },
  {
   "cell_type": "markdown",
   "metadata": {},
   "source": [
    "1) The first data manipulation tool allows you to select one criterion to filters financial institutions by, and see which meet a specific value cut-offs. For example, to find firms that had an Actual 2018 Q4 Tier 1 capital ratio above 15, select \"Actual 2018 Q4 Tier 1 capital ratio\" in the drop down menu and move the scale to 15. This would be useful to see if institutions have maintained their minimum required ratios under various categories."
   ]
  },
  {
   "cell_type": "code",
   "execution_count": 43,
   "metadata": {
    "scrolled": false
   },
   "outputs": [
    {
     "data": {
      "application/vnd.jupyter.widget-view+json": {
       "model_id": "a3cd1c4660604c51aeca6b370bbb6b59",
       "version_major": 2,
       "version_minor": 0
      },
      "text/plain": [
       "interactive(children=(Dropdown(description='column', options=('Actual 2018 Q4 Common equity tier 1 capital rat…"
      ]
     },
     "metadata": {},
     "output_type": "display_data"
    }
   ],
   "source": [
    "data = pd.read_csv(\"CCAP_Assessment_Data_final.csv\")\n",
    "#data.loc[data['Actual 2018 Q4 Total Capital Ratio'] > 20]\n",
    "labels = data.columns[1:]\n",
    "\n",
    "#function within function\n",
    "@interact\n",
    "def show_banks_with_at_least(column=labels, x=(0,20)):\n",
    "    data_new = data.loc[data[column] > x]\n",
    "    return data_new['firm']"
   ]
  },
  {
   "cell_type": "markdown",
   "metadata": {},
   "source": [
    "2) The second tool makes it easier to compare variable(s) over all fourteen financial institutions. Change y_num to the number of variables you would like to observe. If you pick 1, set y1 equal to the variable you want to observe. If you pick 2, set y1 equal to one variable and y2 equal to another one. "
   ]
  },
  {
   "cell_type": "markdown",
   "metadata": {},
   "source": [
    "An interesting comparison is setting y_num to 2, and observing the difference between 'Actual 2018 Q4 Common equity tier 1 capital ratio' and 'Actual 2017 Q4 Common equity tier 1 capital ratio'. For most of the 14 financial institutions included in the data, their common equity tier 1 capital ratios fell from 2017 to 2018."
   ]
  },
  {
   "cell_type": "code",
   "execution_count": 44,
   "metadata": {
    "scrolled": true
   },
   "outputs": [
    {
     "data": {
      "application/vnd.jupyter.widget-view+json": {
       "model_id": "80bd710421264f3cb7943ffda0a78d44",
       "version_major": 2,
       "version_minor": 0
      },
      "text/plain": [
       "interactive(children=(Dropdown(description='y_num', options=(1, 2, 3), value=1), Dropdown(description='y1', op…"
      ]
     },
     "metadata": {},
     "output_type": "display_data"
    }
   ],
   "source": [
    "@interact_manual\n",
    "def overlay(y_num = np.arange(1,4),\n",
    "         y1=list(data.select_dtypes('number').columns),\n",
    "         y2=list(data.select_dtypes('number').columns),\n",
    "         y3=list(data.select_dtypes('number').columns)):\n",
    "    \n",
    "    return data.iplot(kind='bar', barmode='overlay', x=data.columns[0],y=[y1,y2,y3][0:y_num])"
   ]
  },
  {
   "cell_type": "markdown",
   "metadata": {},
   "source": [
    "3) This third tool is useful to look at the trends of one metric over time for an individual firm. You can select a bank and a metric to observe, and the output is a line graph of this variable from 2016-2018. (That being said, this graph only one value for each year and doesn't show to the change of the variable over different quarters of the year)."
   ]
  },
  {
   "cell_type": "code",
   "execution_count": 45,
   "metadata": {},
   "outputs": [
    {
     "data": {
      "application/vnd.jupyter.widget-view+json": {
       "model_id": "fcf8ff2f9167441f84b27a9973e6affd",
       "version_major": 2,
       "version_minor": 0
      },
      "text/plain": [
       "interactive(children=(Dropdown(description='x', options=('Bank of America Corporation ', 'The Bank of New York…"
      ]
     },
     "metadata": {},
     "output_type": "display_data"
    }
   ],
   "source": [
    "@interact_manual\n",
    "def differ(x = data['firm'],\n",
    "         y=['Actual Q4 Common equity tier 1 capital ratio','Projected Minium Common equity tier 1 capital ratio in adverse conditions', 'Projected Minimum Common equity tier 1 capital ratio in severely adverse conditions', 'Actual Q4 Tier 1 capital ratio', 'Projected Minimum Tier 1 capital ratio in adverse conditions', 'Projected Minimum Tier 1 capital ratio in severely adverse conditions',\n",
    "     'Actual Q4 Total Capital Ratio', 'Projected Minimum Total Capital Ratio in adverse conditions', 'Projected Minimum Total Capital Ratio in severely adverse conditions',\n",
    "    'Actual Q4 Tier 1 Leverage Ratio','Projected Minimum Tier 1 Leverage Ratio in adverse conditions','Projected Minimum Tier 1 Leverage Ratio in severely adverse conditions']):\n",
    "    \n",
    "    data2 = data[data['firm']==x]\n",
    "    d1= [data2['Actual 2016 Q4 Common equity tier 1 capital ratio'], data2['Actual 2017 Q4 Common equity tier 1 capital ratio'], float(data2['Actual 2018 Q4 Common equity tier 1 capital ratio'])]\n",
    "    d2= [data2['Projected Minimum Common equity tier 1 capital ratio in adverse conditions 2017 (Q1)-2019 (Q1)'],data2['Projected Minimum Common equity tier 1 capital ratio in adverse conditions 2018 (Q1)-2020 (Q1)'],data2['Projected Minimum Common equity tier 1 capital ratio in adverse conditions 2019 (Q1)-2021 (Q1)']]\n",
    "    d3= [data2['Projected Minimum Common equity tier 1 capital ratio in severly adverse conditions 2017 (Q1)-2019 (Q1)'],data2['Projected Minimum Common equity tier 1 capital ratio in severly adverse conditions 2018 (Q1)-2020 (Q1)'],data2['Projected Minimum Common equity tier 1 capital ratio in severely adverse conditions 2019 (Q1)-2021 (Q1)']]\n",
    "    d4= [data2['Actual 2016 Q4 Tier 1 capital ratio'], data2['Actual 2017 Q4 Tier 1 capital ratio'], data2['Actual 2018 Q4 Tier 1 capital ratio']]\n",
    "    d5= [data2['Projected Minimum Tier 1 capital ratio in adverse conditions 2017 (Q1)-2019 (Q1)'],data2['Projected Minimum Tier 1 capital ratio in adverse conditions 2018 (Q1)-2020 (Q1)'],data2['Projected Minimum Tier 1 capital ratio in adverse conditions 2019 (Q1)-2021 (Q1)']]\n",
    "    d6= [data2['Projected Minimum Tier 1 capital ratio in severely adverse conditions 2017 (Q1)-2019 (Q1)'],data2['Projected Minimum Tier 1 capital ratio in severely adverse conditions 2018 (Q1)-2020 (Q1)'],data2['Projected Minimum Tier 1 capital ratio in severely adverse conditions 2019 (Q1)-2021 (Q1)']]\n",
    "    d7= [data2['Actual 2016 Q4 Total Capital Ratio'], data2['Actual 2017 Q4 Total Capital Ratio'],data2['Actual 2018 Q4 Total Capital Ratio']]\n",
    "    d8= [data2['Projected Minimum Total Capital Ratio in adverse conditions 2017 (Q1)-2019 (Q1)'],data2['Projected Minimum Total Capital Ratio in adverse conditions 2018 (Q1)-2020 (Q1)'],data2['Projected Minimum Total Capital Ratio in adverse conditions 2019 (Q1)-2021 (Q1)']]\n",
    "    d9= [data2['Projected Minimum Total Capital Ratio in severely adverse conditions 2017 (Q1)-2019 (Q1)'],data2['Projected Minimum Total Capital Ratio in severely adverse conditions 2018 (Q1)-2020 (Q1)'],data2['Projected Minimum Total Capital Ratio in severely adverse conditions 2019 (Q1)-2021 (Q1)']]\n",
    "    d10= [data2['Actual 2016 Q4 Tier 1 Leverage Ratio'],data2['Actual 2017 Q4 Tier 1 Leverage Ratio'],data2['Actual 2018 Q4 Tier 1 Leverage Ratio']]\n",
    "    d11= [data2['Projected Minimum Tier 1 Leverage Ratio in adverse conditions 2017 (Q1)-2019 (Q1)'],data2['Projected Minimum Tier 1 Leverage Ratio in adverse conditions 2018 (Q1)-2020 (Q1)'],data2['Projected Minimum Tier 1 Leverage Ratio in adverse conditions 2019 (Q1)-2021 (Q1)']]\n",
    "    d12= [data2['Projected Minimum Tier 1 Leverage Ratio in severely adverse conditions 2017 (Q1)-2019 (Q1)'],data2['Projected Minimum Tier 1 Leverage Ratio in severely adverse conditions 2018 (Q1)-2020 (Q1)'],data2['Projected Minimum Tier 1 Leverage Ratio in severely adverse conditions 2019 (Q1)-2021 (Q1)']]\n",
    "    data3 = {'Actual Q4 Common equity tier 1 capital ratio': d1,'Projected Minium Common equity tier 1 capital ratio in adverse conditions':d2, 'Projected Minimum Common equity tier 1 capital ratio in severely adverse conditions':d3, 'Actual Q4 Tier 1 capital ratio':d4, 'Projected Minimum Tier 1 capital ratio in adverse conditions':d5, 'Projected Minimum Tier 1 capital ratio in severely adverse conditions':d6,\n",
    "    'Actual Q4 Total Capital Ratio':d7, 'Projected Minimum Total Capital Ratio in adverse conditions':d8, 'Projected Minimum Total Capital Ratio in severely adverse conditions':d9,\n",
    "    'Actual Q4 Tier 1 Leverage Ratio':d10,'Projected Minimum Tier 1 Leverage Ratio in adverse conditions':d11,'Projected Minimum Tier 1 Leverage Ratio in severely adverse conditions':d12}\n",
    "    data3 = pd.DataFrame(data=data3)\n",
    "    x_points = [2016,2017,2018]\n",
    "    y_points = [float(data3[y][0]),float(data3[y][1]),float(data3[y][2])]\n",
    "    df = pd.DataFrame({'Year of Report':x_points, str(y):y_points})\n",
    "    return df.plot(kind='line',x='Year of Report',y=str(y),color='red')"
   ]
  },
  {
   "cell_type": "code",
   "execution_count": null,
   "metadata": {},
   "outputs": [],
   "source": []
  }
 ],
 "metadata": {
  "kernelspec": {
   "display_name": "Python 3",
   "language": "python",
   "name": "python3"
  },
  "language_info": {
   "codemirror_mode": {
    "name": "ipython",
    "version": 3
   },
   "file_extension": ".py",
   "mimetype": "text/x-python",
   "name": "python",
   "nbconvert_exporter": "python",
   "pygments_lexer": "ipython3",
   "version": "3.7.3"
  },
  "widgets": {
   "application/vnd.jupyter.widget-state+json": {
    "state": {},
    "version_major": 2,
    "version_minor": 0
   }
  }
 },
 "nbformat": 4,
 "nbformat_minor": 2
}
